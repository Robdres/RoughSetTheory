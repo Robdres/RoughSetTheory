{
 "cells": [
  {
   "cell_type": "code",
   "execution_count": null,
   "id": "f38b3396-af53-4205-a3ef-e5984fd38722",
   "metadata": {},
   "outputs": [],
   "source": [
    "while True:\n",
    "    print(\"First loop\")\n",
    "    it = 0 \n",
    "    while True:\n",
    "        print(\"Second loop\")\n",
    "        it +=1 \n",
    "        if(it%4==0):\n",
    "            print(\"exit\")\n",
    "            continue"
   ]
  }
 ],
 "metadata": {
  "kernelspec": {
   "display_name": "Python 3 (ipykernel)",
   "language": "python",
   "name": "python3"
  },
  "language_info": {
   "codemirror_mode": {
    "name": "ipython",
    "version": 3
   },
   "file_extension": ".py",
   "mimetype": "text/x-python",
   "name": "python",
   "nbconvert_exporter": "python",
   "pygments_lexer": "ipython3",
   "version": "3.10.2"
  }
 },
 "nbformat": 4,
 "nbformat_minor": 5
}
