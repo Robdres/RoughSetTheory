{
 "cells": [
  {
   "cell_type": "code",
   "execution_count": 13,
   "id": "492e9bf2-0cf1-4ea2-98fc-b050855c5852",
   "metadata": {},
   "outputs": [],
   "source": [
    "import numpy as np\n",
    "def Circle(r):\n",
    "    dia = r*2\n",
    "    area = r**2 * np.pi\n",
    "    per = dia*np.pi\n",
    "    print(\"Diametro =\",dia,\" Area=\",area,\" Perimetro=\",per)\n",
    "    return [dia,area,per]"
   ]
  },
  {
   "cell_type": "code",
   "execution_count": 14,
   "id": "5b22ba63-7ab8-4c09-9810-9cb05c12a544",
   "metadata": {},
   "outputs": [
    {
     "name": "stdout",
     "output_type": "stream",
     "text": [
      "Diametro = 6  Area= 28.274333882308138  Perimetro= 18.84955592153876\n"
     ]
    },
    {
     "data": {
      "text/plain": [
       "[6, 28.274333882308138, 18.84955592153876]"
      ]
     },
     "execution_count": 14,
     "metadata": {},
     "output_type": "execute_result"
    }
   ],
   "source": [
    "Circle(3)"
   ]
  }
 ],
 "metadata": {
  "kernelspec": {
   "display_name": "Python 3 (ipykernel)",
   "language": "python",
   "name": "python3"
  },
  "language_info": {
   "codemirror_mode": {
    "name": "ipython",
    "version": 3
   },
   "file_extension": ".py",
   "mimetype": "text/x-python",
   "name": "python",
   "nbconvert_exporter": "python",
   "pygments_lexer": "ipython3",
   "version": "3.10.2"
  }
 },
 "nbformat": 4,
 "nbformat_minor": 5
}
