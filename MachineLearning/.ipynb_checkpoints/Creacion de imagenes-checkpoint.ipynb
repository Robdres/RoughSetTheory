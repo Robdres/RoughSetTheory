{
 "cells": [
  {
   "cell_type": "code",
   "execution_count": 1,
   "id": "529da0c0",
   "metadata": {},
   "outputs": [],
   "source": [
    "import cv2 as cv\n",
    "import numpy as np \n",
    "import random as rd"
   ]
  },
  {
   "cell_type": "code",
   "execution_count": 6,
   "id": "b50c3a3b",
   "metadata": {},
   "outputs": [],
   "source": [
    "#Create a blank image\n",
    "img = np.ones((500,1000,1),np.uint8)*255"
   ]
  },
  {
   "cell_type": "code",
   "execution_count": 7,
   "id": "7a6baada",
   "metadata": {},
   "outputs": [],
   "source": [
    "#add a rectangle\n",
    "#(x,y)\n",
    "cv.rectangle(img,(50,10),(100,100),(0,0,255),1)\n",
    "cv.imshow('image',img)\n",
    "cv.waitKey(0)\n",
    "cv.destroyAllWindows()"
   ]
  },
  {
   "cell_type": "code",
   "execution_count": 6,
   "id": "65551db6",
   "metadata": {},
   "outputs": [],
   "source": [
    "#random rectangle\n",
    "sizeX = np.random.randint(150,200)\n",
    "sizeY = np.random.randint(150,200)\n",
    "x = np.random.randint(0,800)\n",
    "y = np.random.randint(0,300)\n",
    "\n",
    "cv.rectangle(img,(x,y),(x+sizeX,y+sizeY),(0,0,256),1)\n",
    "cv.imshow('image',img)\n",
    "cv.waitKey(0)\n",
    "cv.destroyAllWindows()"
   ]
  },
  {
   "cell_type": "code",
   "execution_count": null,
   "id": "11bcff63-f550-4ec5-bcc2-7d642a28d22d",
   "metadata": {},
   "outputs": [],
   "source": [
    "def createBlankImage(n):\n",
    "    if(n==1):\n",
    "        return np.ones((200,1000,1),np.uint8)*255\n",
    "    else:\n",
    "        return np.ones(((n+1)*20,(n+1)*20,1),np.uint8)*255\n",
    "def createRandomRectangle(img,l1,l2):\n",
    "    b = np.random.randint(1,(l1[0]-l2[0])/2)\n",
    "    a = np.random.randint(1,(l1[1]-l2[1])/2)\n",
    "    \n",
    "    \n",
    "    "
   ]
  }
 ],
 "metadata": {
  "kernelspec": {
   "display_name": "Python 3 (ipykernel)",
   "language": "python",
   "name": "python3"
  },
  "language_info": {
   "codemirror_mode": {
    "name": "ipython",
    "version": 3
   },
   "file_extension": ".py",
   "mimetype": "text/x-python",
   "name": "python",
   "nbconvert_exporter": "python",
   "pygments_lexer": "ipython3",
   "version": "3.9.7"
  }
 },
 "nbformat": 4,
 "nbformat_minor": 5
}
