{
 "cells": [
  {
   "cell_type": "code",
   "execution_count": 1,
   "id": "fe1a6fb7-4a16-422e-982f-18b3fe7e2fbb",
   "metadata": {},
   "outputs": [],
   "source": [
    "import numpy as np\n",
    "import matplotlib.pyplot as plt"
   ]
  },
  {
   "cell_type": "code",
   "execution_count": 4,
   "id": "628a17ea-a12a-4cd4-9836-bd70bd2a1673",
   "metadata": {},
   "outputs": [],
   "source": [
    "f = open(\"semeion.data\")\n",
    "L = f.readlines()"
   ]
  },
  {
   "cell_type": "code",
   "execution_count": 5,
   "id": "13f5d3bf-1973-486e-b4e3-a5dd6b33c784",
   "metadata": {},
   "outputs": [],
   "source": [
    "array = []\n",
    "label = [] \n",
    "for l in L:\n",
    "    array.append(list(map(float,l[:-21].split())))\n",
    "    label.append(list(map(int,l[-21:].split())))"
   ]
  },
  {
   "cell_type": "code",
   "execution_count": 6,
   "id": "c2ee589d-0957-405b-925b-ce522e6d4886",
   "metadata": {},
   "outputs": [],
   "source": [
    "train = np.array(array)\n",
    "label = np.array(label)"
   ]
  },
  {
   "cell_type": "code",
   "execution_count": 7,
   "id": "1111181f-31fa-4a9a-a7f4-78b9cd751d1e",
   "metadata": {},
   "outputs": [
    {
     "data": {
      "text/plain": [
       "<matplotlib.image.AxesImage at 0x7f148dad14e0>"
      ]
     },
     "execution_count": 7,
     "metadata": {},
     "output_type": "execute_result"
    },
    {
     "data": {
      "image/png": "[encoded data removed]",
      "text/plain": [
       "<Figure size 432x288 with 1 Axes>"
      ]
     },
     "metadata": {
      "needs_background": "light"
     },
     "output_type": "display_data"
    }
   ],
   "source": [
    "img = train[0]\n",
    "img = img.reshape(16,16,1)\n",
    "plt.imshow(img,cmap='gray')"
   ]
  },
  {
   "cell_type": "code",
   "execution_count": 8,
   "id": "1ec26d62-2192-4da7-9fc1-da09caabaf74",
   "metadata": {},
   "outputs": [
    {
     "name": "stdout",
     "output_type": "stream",
     "text": [
      "(1593, 256)\n",
      "(1593, 10)\n",
      "[1 0 0 0 0 0 0 0 0 0]\n"
     ]
    }
   ],
   "source": [
    "print(train.shape)\n",
    "print(label.shape)\n",
    "print(label[0])"
   ]
  },
  {
   "cell_type": "code",
   "execution_count": 9,
   "id": "9fe2a726-b3e4-4a89-b2fd-d180893b0013",
   "metadata": {},
   "outputs": [],
   "source": [
    "labelS = []\n",
    "for l in label:\n",
    "    l = list(l)\n",
    "    labelS.append(l.index(1))"
   ]
  },
  {
   "cell_type": "code",
   "execution_count": 10,
   "id": "c0189926-3137-44e0-a841-d4e800cdccd0",
   "metadata": {},
   "outputs": [],
   "source": [
    "labelS = np.array(labelS)\n",
    "labelS = labelS.reshape(1593,1)"
   ]
  },
  {
   "cell_type": "code",
   "execution_count": 11,
   "id": "3013c595-feaf-4ad3-8c9c-4cf24a3388c5",
   "metadata": {},
   "outputs": [
    {
     "name": "stdout",
     "output_type": "stream",
     "text": [
      "(1593, 256)\n",
      "(1593, 1)\n"
     ]
    }
   ],
   "source": [
    "print(train.shape)\n",
    "print(labelS.shape)"
   ]
  },
  {
   "cell_type": "code",
   "execution_count": 34,
   "id": "b1d744c5-7a0b-49be-9ead-e2503f3263a3",
   "metadata": {},
   "outputs": [],
   "source": [
    "#Creation of discerning matrix\n",
    "def discernilibityMatrix(att,lab):\n",
    "    matrix = []\n",
    "    for i in range(len(att)):\n",
    "        if(i in [int(len(att)/10)*n for n in range(1,11)]):\n",
    "            print(\"{:d}% completed\".format(int(i/len(att)*100)+1))\n",
    "        for j in range(i,len(att)):\n",
    "            aux = []\n",
    "            if(lab[i]!=lab[j]):\n",
    "                for k in range(len(att[0])):\n",
    "                    if(att[i][k] == att[j][k]):\n",
    "                        aux.append(0)\n",
    "                    else:\n",
    "                        aux.append(1)\n",
    "                matrix.append(aux)\n",
    "    print(\"Completed\")\n",
    "    return np.array(matrix,dtype=np.uint32)"
   ]
  },
  {
   "cell_type": "code",
   "execution_count": 35,
   "id": "538c12ff-4e8a-4094-8bee-8b8208c78ef1",
   "metadata": {},
   "outputs": [
    {
     "name": "stdout",
     "output_type": "stream",
     "text": [
      "10% completed\n",
      "20% completed\n"
     ]
    },
    {
     "ename": "KeyboardInterrupt",
     "evalue": "",
     "output_type": "error",
     "traceback": [
      "\u001b[0;31m---------------------------------------------------------------------------\u001b[0m",
      "\u001b[0;31mKeyboardInterrupt\u001b[0m                         Traceback (most recent call last)",
      "Input \u001b[0;32mIn [35]\u001b[0m, in \u001b[0;36m<module>\u001b[0;34m\u001b[0m\n\u001b[0;32m----> 1\u001b[0m dMat \u001b[38;5;241m=\u001b[39m \u001b[43mdiscernilibityMatrix\u001b[49m\u001b[43m(\u001b[49m\u001b[43mtrain\u001b[49m\u001b[43m,\u001b[49m\u001b[43mlabelS\u001b[49m\u001b[43m)\u001b[49m\n",
      "Input \u001b[0;32mIn [34]\u001b[0m, in \u001b[0;36mdiscernilibityMatrix\u001b[0;34m(att, lab)\u001b[0m\n\u001b[1;32m      9\u001b[0m \u001b[38;5;28;01mif\u001b[39;00m(lab[i]\u001b[38;5;241m!=\u001b[39mlab[j]):\n\u001b[1;32m     10\u001b[0m     \u001b[38;5;28;01mfor\u001b[39;00m k \u001b[38;5;129;01min\u001b[39;00m \u001b[38;5;28mrange\u001b[39m(\u001b[38;5;28mlen\u001b[39m(att[\u001b[38;5;241m0\u001b[39m])):\n\u001b[0;32m---> 11\u001b[0m         \u001b[38;5;28;01mif\u001b[39;00m(att[i][k] \u001b[38;5;241m==\u001b[39m att[j][k]):\n\u001b[1;32m     12\u001b[0m             aux\u001b[38;5;241m.\u001b[39mappend(\u001b[38;5;241m0\u001b[39m)\n\u001b[1;32m     13\u001b[0m         \u001b[38;5;28;01melse\u001b[39;00m:\n",
      "\u001b[0;31mKeyboardInterrupt\u001b[0m: "
     ]
    }
   ],
   "source": [
    "dMat = discernilibityMatrix(train,labelS)"
   ]
  },
  {
   "cell_type": "code",
   "execution_count": 95,
   "id": "72127941-49be-434b-ab87-d3b857daed2a",
   "metadata": {},
   "outputs": [],
   "source": [
    "#Reduction to basic matrix\n",
    "def baseMatrix(dis):\n",
    "    x = dis\n",
    "    i = 0\n",
    "    while True:\n",
    "        if(i in [int(len(dis)/10)*n for n in range(1,11)]):\n",
    "            print(\"{:d}% completed\".format(int(i/len(dis)*100)+1))\n",
    "        #check if full of ceros\n",
    "        if(not np.any(x[i])):\n",
    "            x = np.delete(x,i,0)\n",
    "            continue\n",
    "        else:\n",
    "            it = i + 1\n",
    "            while True:\n",
    "                if(np.all(x[i]<=x[it])):\n",
    "                    print(\"trigger\")\n",
    "                    x = np.delete(x,it,0)\n",
    "                elif(np.all(x[i]>x[it])):\n",
    "                    print(\"trigger2\")\n",
    "                    x = np.delete(x,i,0)\n",
    "                    break\n",
    "                else:\n",
    "                    it+=1\n",
    "                if(it>=len(x)):\n",
    "                    i+= 1\n",
    "                    break\n",
    "        if(i>=len(x)):\n",
    "            break\n",
    "    print(\"Completed\")\n",
    "    return x"
   ]
  },
  {
   "cell_type": "code",
   "execution_count": 92,
   "id": "ebdc4ad8-0d23-4989-b1f9-8114b61b9179",
   "metadata": {},
   "outputs": [
    {
     "name": "stdout",
     "output_type": "stream",
     "text": [
      "1% completed\n",
      "Completed\n",
      "[[0 0 0 0 1]\n",
      " [1 1 1 0 1]]\n"
     ]
    }
   ],
   "source": [
    "a = np.array([0,1,0,1,1])\n",
    "b = np.array([0,1,0,1,0])\n",
    "c = np.array([1,0,1,1,1])\n",
    "x = np.array([a,b,c])\n",
    "l = np.array([1,0,1])\n",
    "d = discernilibityMatrix(x,l)\n",
    "print(d)"
   ]
  },
  {
   "cell_type": "code",
   "execution_count": 96,
   "id": "6fe5c19e-3bfb-4264-afea-ac3e1d122b7f",
   "metadata": {},
   "outputs": [
    {
     "name": "stdout",
     "output_type": "stream",
     "text": [
      "(1141923, 256)\n"
     ]
    }
   ],
   "source": [
    "print(dMat.shape)"
   ]
  },
  {
   "cell_type": "code",
   "execution_count": null,
   "id": "d4652f91-c611-4693-af8c-79d76d10417c",
   "metadata": {},
   "outputs": [],
   "source": [
    "bMat = baseMatrix(dMat)"
   ]
  },
  {
   "cell_type": "code",
   "execution_count": 81,
   "id": "8cc737f4-892e-4750-bfd3-0c6590c6f872",
   "metadata": {},
   "outputs": [
    {
     "data": {
      "text/plain": [
       "array([ True,  True,  True,  True,  True,  True,  True,  True,  True,\n",
       "        True,  True,  True, False,  True,  True,  True,  True,  True,\n",
       "        True,  True,  True,  True,  True,  True,  True,  True,  True,\n",
       "        True,  True,  True,  True, False,  True,  True,  True,  True,\n",
       "        True,  True,  True,  True,  True,  True,  True, False,  True,\n",
       "        True,  True, False,  True,  True,  True,  True,  True,  True,\n",
       "        True,  True,  True,  True, False, False,  True,  True, False,\n",
       "       False,  True,  True,  True,  True,  True,  True,  True,  True,\n",
       "        True, False, False, False,  True, False, False,  True,  True,\n",
       "        True,  True,  True,  True,  True,  True,  True, False, False,\n",
       "       False, False, False, False, False,  True,  True,  True,  True,\n",
       "        True,  True,  True, False, False, False, False, False,  True,\n",
       "       False, False,  True,  True,  True,  True,  True,  True, False,\n",
       "       False, False, False,  True, False,  True,  True, False,  True,\n",
       "        True,  True,  True,  True,  True, False, False, False,  True,\n",
       "        True, False,  True,  True, False, False,  True,  True,  True,\n",
       "        True, False, False, False,  True,  True,  True,  True,  True,\n",
       "        True,  True, False, False,  True,  True,  True, False, False,\n",
       "       False,  True,  True,  True,  True,  True,  True,  True, False,\n",
       "       False,  True,  True,  True,  True, False, False,  True,  True,\n",
       "        True, False, False,  True,  True,  True, False, False,  True,\n",
       "        True,  True,  True,  True,  True,  True,  True, False, False,\n",
       "       False,  True, False,  True, False, False,  True,  True,  True,\n",
       "        True,  True,  True, False, False, False, False,  True, False,\n",
       "       False, False, False, False,  True,  True,  True,  True, False,\n",
       "       False, False, False, False,  True, False, False, False, False,\n",
       "       False, False, False,  True,  True,  True, False, False, False,\n",
       "        True,  True,  True, False, False, False,  True,  True,  True,\n",
       "        True,  True,  True,  True])"
      ]
     },
     "execution_count": 81,
     "metadata": {},
     "output_type": "execute_result"
    }
   ],
   "source": [
    "x = dMat[0]\n",
    "y = np.delete(dMat,0,0)\n",
    "x == y[0]"
   ]
  }
 ],
 "metadata": {
  "kernelspec": {
   "display_name": "Python 3 (ipykernel)",
   "language": "python",
   "name": "python3"
  },
  "language_info": {
   "codemirror_mode": {
    "name": "ipython",
    "version": 3
   },
   "file_extension": ".py",
   "mimetype": "text/x-python",
   "name": "python",
   "nbconvert_exporter": "python",
   "pygments_lexer": "ipython3",
   "version": "3.10.2"
  }
 },
 "nbformat": 4,
 "nbformat_minor": 5
}
